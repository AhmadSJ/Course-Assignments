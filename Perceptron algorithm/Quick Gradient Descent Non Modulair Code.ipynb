{
 "cells": [
  {
   "cell_type": "code",
   "execution_count": 7,
   "metadata": {
    "collapsed": true
   },
   "outputs": [],
   "source": [
    "import numpy as np;\n",
    "import matplotlib.pyplot as plt;\n",
    "rand=np.random.rand;"
   ]
  },
  {
   "cell_type": "code",
   "execution_count": 48,
   "metadata": {
    "collapsed": true
   },
   "outputs": [],
   "source": [
    "\n",
    "test_in=np.genfromtxt(\"test_in.csv\", delimiter=',');\n",
    "test_out=np.genfromtxt(\"test_out.csv\", delimiter=',');\n",
    "train_in=np.genfromtxt(\"train_in.csv\", delimiter=',');\n",
    "train_out=np.genfromtxt(\"train_out.csv\", delimiter=',');"
   ]
  },
  {
   "cell_type": "code",
   "execution_count": 63,
   "metadata": {},
   "outputs": [],
   "source": [
    "NUM_TRAIN=len(train_out);\n",
    "NUM_TEST=len(test_out);\n",
    "\n",
    "n_epochs = 51\n",
    "c_train=np.zeros(n_epochs-1);\n",
    "c_test=np.zeros(n_epochs-1);\n"
   ]
  },
  {
   "cell_type": "code",
   "execution_count": 58,
   "metadata": {},
   "outputs": [
    {
     "name": "stdout",
     "output_type": "stream",
     "text": [
      "7 2  update weights w[7]\n"
     ]
    }
   ],
   "source": [
    "c=train_out[10]\n",
    "for k in range(0,10):\n",
    "    delta = 2*(k==c)-1-(-1);\n",
    "    if delta!=0:\n",
    "        print(k,delta, ' update weights w[%s]'%k)"
   ]
  },
  {
   "cell_type": "code",
   "execution_count": 64,
   "metadata": {},
   "outputs": [
    {
     "name": "stdout",
     "output_type": "stream",
     "text": [
      "1\n",
      "2\n",
      "3\n",
      "4\n",
      "5\n",
      "6\n",
      "7\n",
      "8\n",
      "9\n",
      "10\n",
      "11\n",
      "12\n",
      "13\n",
      "14\n",
      "15\n",
      "16\n",
      "17\n",
      "18\n",
      "19\n",
      "20\n",
      "21\n",
      "22\n",
      "23\n",
      "24\n",
      "25\n",
      "26\n",
      "27\n",
      "28\n",
      "29\n",
      "30\n",
      "31\n",
      "32\n",
      "33\n",
      "34\n",
      "35\n",
      "36\n",
      "37\n",
      "38\n",
      "39\n",
      "40\n",
      "41\n",
      "42\n",
      "43\n",
      "44\n",
      "45\n",
      "46\n",
      "47\n",
      "48\n",
      "49\n",
      "50\n"
     ]
    }
   ],
   "source": [
    "rate=5;\n",
    "\n",
    "for epochs in range(1, n_epochs):\n",
    "    print(epochs);\n",
    "    w=rand(10, 256);\n",
    "    w_b=rand(10);\n",
    "\n",
    "    y=np.zeros(10);\n",
    "\n",
    "    #epochs=100;\n",
    "    for i in range(0, epochs):\n",
    "        for j in range(0, NUM_TRAIN):\n",
    "            x=train_in[j];\n",
    "            c=np.int(train_out[j]);\n",
    "\n",
    "            a=w_b+np.sum(w*x, axis=1);\n",
    "            y=2*(a>=0)-1;\n",
    "\n",
    "            for k in range(0, 10):\n",
    "                delta=2*(k==c)-1-y[k];\n",
    "                if delta!=0:\n",
    "                    w[k]=w[k]+rate*delta*x;\n",
    "                    w_b[k]=w_b[k]+rate*delta;\n",
    "\n",
    "    correct_train=0;\n",
    "    for i in range(0, NUM_TRAIN):\n",
    "        x=train_in[i];\n",
    "        c=np.int(train_out[i]);\n",
    "        a=w_b+np.sum(w*x, axis=1);\n",
    "        #y=2*(a>=0)-1;\n",
    "        if(np.argmax(a)==c):\n",
    "            correct_train=correct_train+1;\n",
    "    c_train[epochs-1]=correct_train;\n",
    "\n",
    "    correct_test=0;\n",
    "    for i in range(0, NUM_TEST):\n",
    "        x=test_in[i];\n",
    "        c=np.int(test_out[i]);\n",
    "        a=w_b+np.sum(w*x, axis=1);\n",
    "        #y=2*(a>=0)-1;\n",
    "        if(np.argmax(a)==c):\n",
    "            correct_test=correct_test+1;\n",
    "    c_test[epochs-1]=correct_test;\n",
    "\n",
    "np.savetxt(\"c_train.txt\", c_train, delimiter='\\n', newline='\\n', fmt='%d');\n",
    "np.savetxt(\"c_test.txt\", c_test, delimiter='\\n', newline='\\n', fmt='%d');"
   ]
  },
  {
   "cell_type": "code",
   "execution_count": 70,
   "metadata": {},
   "outputs": [],
   "source": [
    "plt.plot(c_train/NUM_TRAIN, label = 'Classification train set')\n",
    "plt.plot(c_test/NUM_TEST,label = 'Classification test set')\n",
    "plt.xlabel('Epochs')\n",
    "plt.ylabel('Accuracy')\n",
    "plt.show()"
   ]
  },
  {
   "cell_type": "code",
   "execution_count": null,
   "metadata": {},
   "outputs": [],
   "source": []
  },
  {
   "cell_type": "code",
   "execution_count": null,
   "metadata": {},
   "outputs": [],
   "source": []
  },
  {
   "cell_type": "code",
   "execution_count": null,
   "metadata": {},
   "outputs": [],
   "source": []
  },
  {
   "cell_type": "code",
   "execution_count": null,
   "metadata": {},
   "outputs": [],
   "source": []
  },
  {
   "cell_type": "code",
   "execution_count": null,
   "metadata": {},
   "outputs": [],
   "source": []
  },
  {
   "cell_type": "code",
   "execution_count": null,
   "metadata": {},
   "outputs": [],
   "source": []
  },
  {
   "cell_type": "code",
   "execution_count": null,
   "metadata": {},
   "outputs": [],
   "source": []
  },
  {
   "cell_type": "code",
   "execution_count": null,
   "metadata": {},
   "outputs": [],
   "source": []
  },
  {
   "cell_type": "code",
   "execution_count": null,
   "metadata": {},
   "outputs": [],
   "source": []
  },
  {
   "cell_type": "code",
   "execution_count": null,
   "metadata": {},
   "outputs": [],
   "source": []
  },
  {
   "cell_type": "code",
   "execution_count": 68,
   "metadata": {},
   "outputs": [],
   "source": [
    "plt.plot(c_train/1707)\n",
    "plt.plot(c_test/1000)\n",
    "plt.ylim([0,1])\n",
    "plt.show()"
   ]
  },
  {
   "cell_type": "code",
   "execution_count": null,
   "metadata": {
    "collapsed": true
   },
   "outputs": [],
   "source": []
  }
 ],
 "metadata": {
  "kernelspec": {
   "display_name": "Python 3",
   "language": "python",
   "name": "python3"
  },
  "language_info": {
   "codemirror_mode": {
    "name": "ipython",
    "version": 3
   },
   "file_extension": ".py",
   "mimetype": "text/x-python",
   "name": "python",
   "nbconvert_exporter": "python",
   "pygments_lexer": "ipython3",
   "version": "3.7.1"
  }
 },
 "nbformat": 4,
 "nbformat_minor": 1
}
