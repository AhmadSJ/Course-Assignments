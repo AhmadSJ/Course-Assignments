{
 "cells": [
  {
   "cell_type": "code",
   "execution_count": 2,
   "metadata": {
    "collapsed": true
   },
   "outputs": [],
   "source": [
    "import numpy as np;\n",
    "import matplotlib.pyplot as plt;\n",
    "rand=np.random.rand;"
   ]
  },
  {
   "cell_type": "code",
   "execution_count": 3,
   "metadata": {
    "collapsed": true
   },
   "outputs": [],
   "source": [
    "\n",
    "test_in=np.genfromtxt(\"test_in.csv\", delimiter=',');\n",
    "test_out=np.genfromtxt(\"test_out.csv\", delimiter=',');\n",
    "train_in=np.genfromtxt(\"train_in.csv\", delimiter=',');\n",
    "train_out=np.genfromtxt(\"train_out.csv\", delimiter=',');"
   ]
  },
  {
   "cell_type": "code",
   "execution_count": 4,
   "metadata": {
    "collapsed": true
   },
   "outputs": [],
   "source": [
    "NUM_TRAIN=len(train_out);\n",
    "NUM_TEST=len(test_out);\n",
    "\n",
    "c_train=np.zeros(50);\n",
    "c_test=np.zeros(50);"
   ]
  },
  {
   "cell_type": "code",
   "execution_count": 6,
   "metadata": {
    "collapsed": false
   },
   "outputs": [
    {
     "data": {
      "text/plain": [
       "1000"
      ]
     },
     "execution_count": 6,
     "metadata": {},
     "output_type": "execute_result"
    }
   ],
   "source": [
    "NUM_TEST"
   ]
  },
  {
   "cell_type": "code",
   "execution_count": 14,
   "metadata": {
    "collapsed": false
   },
   "outputs": [],
   "source": [
    "x=train_in[0]"
   ]
  },
  {
   "cell_type": "code",
   "execution_count": 15,
   "metadata": {
    "collapsed": true
   },
   "outputs": [],
   "source": [
    "w=np.random.rand(10,256)"
   ]
  },
  {
   "cell_type": "code",
   "execution_count": 20,
   "metadata": {
    "collapsed": false
   },
   "outputs": [
    {
     "data": {
      "text/plain": [
       "(10, 256)"
      ]
     },
     "execution_count": 20,
     "metadata": {},
     "output_type": "execute_result"
    }
   ],
   "source": [
    "(w*x).shape"
   ]
  },
  {
   "cell_type": "code",
   "execution_count": 51,
   "metadata": {
    "collapsed": false
   },
   "outputs": [],
   "source": [
    "x = np.arange(5)"
   ]
  },
  {
   "cell_type": "code",
   "execution_count": 63,
   "metadata": {
    "collapsed": false
   },
   "outputs": [],
   "source": [
    "w = np.arange(50).reshape(10,5)"
   ]
  },
  {
   "cell_type": "code",
   "execution_count": 34,
   "metadata": {
    "collapsed": false
   },
   "outputs": [
    {
     "name": "stdout",
     "output_type": "stream",
     "text": [
      "[[ 0  1  2]\n",
      " [ 3  4  5]\n",
      " [ 6  7  8]\n",
      " [ 9 10 11]\n",
      " [12 13 14]] [[ 0  1  4]\n",
      " [ 0  4 10]\n",
      " [ 0  7 16]\n",
      " [ 0 10 22]\n",
      " [ 0 13 28]] [ 5 14 23 32 41]\n"
     ]
    }
   ],
   "source": [
    "print(w,w*x,)"
   ]
  },
  {
   "cell_type": "code",
   "execution_count": 36,
   "metadata": {
    "collapsed": false
   },
   "outputs": [],
   "source": [
    "a=np.sum(w*x,axis=1)"
   ]
  },
  {
   "cell_type": "code",
   "execution_count": 54,
   "metadata": {
    "collapsed": false
   },
   "outputs": [
    {
     "name": "stdout",
     "output_type": "stream",
     "text": [
      "[0 1 2 3 4]\n"
     ]
    }
   ],
   "source": [
    "print(x)"
   ]
  },
  {
   "cell_type": "code",
   "execution_count": 64,
   "metadata": {
    "collapsed": false
   },
   "outputs": [
    {
     "data": {
      "text/plain": [
       "array([[  0,   1,   4,   9,  16],\n",
       "       [  0,   6,  14,  24,  36],\n",
       "       [  0,  11,  24,  39,  56],\n",
       "       [  0,  16,  34,  54,  76],\n",
       "       [  0,  21,  44,  69,  96],\n",
       "       [  0,  26,  54,  84, 116],\n",
       "       [  0,  31,  64,  99, 136],\n",
       "       [  0,  36,  74, 114, 156],\n",
       "       [  0,  41,  84, 129, 176],\n",
       "       [  0,  46,  94, 144, 196]])"
      ]
     },
     "execution_count": 64,
     "metadata": {},
     "output_type": "execute_result"
    }
   ],
   "source": [
    "x*w"
   ]
  },
  {
   "cell_type": "code",
   "execution_count": 65,
   "metadata": {
    "collapsed": false
   },
   "outputs": [
    {
     "data": {
      "text/plain": [
       "array([ 30,  80, 130, 180, 230, 280, 330, 380, 430, 480])"
      ]
     },
     "execution_count": 65,
     "metadata": {},
     "output_type": "execute_result"
    }
   ],
   "source": [
    "np.dot(x,w.T)"
   ]
  },
  {
   "cell_type": "code",
   "execution_count": 66,
   "metadata": {
    "collapsed": false
   },
   "outputs": [
    {
     "data": {
      "text/plain": [
       "array([ 30,  80, 130, 180, 230, 280, 330, 380, 430, 480])"
      ]
     },
     "execution_count": 66,
     "metadata": {},
     "output_type": "execute_result"
    }
   ],
   "source": [
    "np.sum(x*w,axis=1)"
   ]
  },
  {
   "cell_type": "code",
   "execution_count": 77,
   "metadata": {
    "collapsed": false
   },
   "outputs": [
    {
     "name": "stdout",
     "output_type": "stream",
     "text": [
      "1\n",
      "2\n",
      "3\n",
      "4\n",
      "5\n",
      "6\n",
      "7\n",
      "8\n",
      "9\n",
      "10\n",
      "11\n",
      "12\n",
      "13\n",
      "14\n",
      "15\n",
      "16\n",
      "17\n",
      "18\n",
      "19\n",
      "20\n"
     ]
    }
   ],
   "source": [
    "import numpy as np;\n",
    "import matplotlib.pyplot as plt;\n",
    "\n",
    "rand=np.random.rand;\n",
    "\n",
    "test_in=np.genfromtxt(\"test_in.csv\", delimiter=',');\n",
    "test_out=np.genfromtxt(\"test_out.csv\", delimiter=',');\n",
    "train_in=np.genfromtxt(\"train_in.csv\", delimiter=',');\n",
    "train_out=np.genfromtxt(\"train_out.csv\", delimiter=',');\n",
    "\n",
    "NUM_TRAIN=len(train_out);\n",
    "NUM_TEST=len(test_out);\n",
    "\n",
    "c_train=np.zeros(20);\n",
    "c_test=np.zeros(20);\n",
    "knopen = 10\n",
    "\n",
    "rate=5;\n",
    "for epochs in range(1, 21):\n",
    "\tprint(epochs);\n",
    "\tw=rand(9, 256);\n",
    "\tw_b=rand(9);\n",
    "\n",
    "\ty=np.zeros(10);\n",
    "\n",
    "\t#epochs=100;\n",
    "\tfor i in range(0, epochs):\n",
    "\t\tfor j in range(0, NUM_TRAIN):\n",
    "\t\t\tx=train_in[j];\n",
    "\t\t\tc=np.int(train_out[j]);\n",
    "\t\t\t\n",
    "\t\t\ta=w_b+np.sum(w*x, axis=1);\n",
    "\t\t\ty=2*(a>=0)-1;\n",
    "\t\t\t\n",
    "\t\t\tfor k in range(0, 9):\n",
    "\t\t\t\tdelta=2*(k==c)-1-y[k];\n",
    "\t\t\t\tif delta!=0:\n",
    "\t\t\t\t\tw[k]=w[k]+rate*delta*x;\n",
    "\t\t\t\t\tw_b[k]=w_b[k]+rate*delta;\n",
    "\n",
    "\tcorrect_train=0;\n",
    "\tfor i in range(0, NUM_TRAIN):\n",
    "\t\tx=train_in[i];\n",
    "\t\tc=np.int(train_out[i]);\n",
    "\t\ta=w_b+np.sum(w*x, axis=1);\n",
    "\t\t#y=2*(a>=0)-1;\n",
    "\t\tif(np.argmax(a)==c):\n",
    "\t\t\tcorrect_train=correct_train+1;\n",
    "\tc_train[epochs-1]=correct_train;\n",
    "\n",
    "\tcorrect_test=0;\n",
    "\tfor i in range(0, NUM_TEST):\n",
    "\t\tx=test_in[i];\n",
    "\t\tc=np.int(test_out[i]);\n",
    "\t\ta=w_b+np.sum(w*x, axis=1);\n",
    "\t\t#y=2*(a>=0)-1;\n",
    "\t\tif(np.argmax(a)==c):\n",
    "\t\t\tcorrect_test=correct_test+1;\n",
    "\tc_test[epochs-1]=correct_test;\n"
   ]
  },
  {
   "cell_type": "code",
   "execution_count": 78,
   "metadata": {
    "collapsed": false
   },
   "outputs": [],
   "source": [
    "plt.plot(c_train/1707)\n",
    "plt.plot(c_test/1000)\n",
    "plt.ylim([0,1])\n",
    "plt.show()"
   ]
  },
  {
   "cell_type": "code",
   "execution_count": null,
   "metadata": {
    "collapsed": true
   },
   "outputs": [],
   "source": []
  }
 ],
 "metadata": {
  "kernelspec": {
   "display_name": "Python 3",
   "language": "python",
   "name": "python3"
  },
  "language_info": {
   "codemirror_mode": {
    "name": "ipython",
    "version": 3
   },
   "file_extension": ".py",
   "mimetype": "text/x-python",
   "name": "python",
   "nbconvert_exporter": "python",
   "pygments_lexer": "ipython3",
   "version": "3.5.3"
  }
 },
 "nbformat": 4,
 "nbformat_minor": 0
}
